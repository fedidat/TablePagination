{
 "cells": [
  {
   "cell_type": "code",
   "execution_count": 41,
   "id": "460f7a71",
   "metadata": {
    "editable": true
   },
   "outputs": [
    {
     "name": "stdout",
     "output_type": "stream",
     "text": [
      "Run timestamp: 20250830_215331\n"
     ]
    }
   ],
   "source": [
    "# --- Config ---\n",
    "RUN_CRITERIA = 'all'  # one of: 'naive', 'statistical', 'llm', 'all'\n",
    "RUN_MODELS = [\n",
    "    'google/gemini-2.5-flash-lite',\n",
    "    'deepseek/deepseek-chat-v3.1',\n",
    "    'openai/gpt-4o-mini',\n",
    "]  # used only when RUN_CRITERIA in {'llm','all'}\n",
    "\n",
    "# Restrict which tables to run (None = all). Values are table 'name' from meta.\n",
    "TABLE_WHITELIST = None  # e.g. ['south_african_class_15f_4_8_2']\n",
    "TABLE_BLACKLIST = []\n",
    "TABLE_LIMIT = None  # e.g. 5\n",
    "\n",
    "# Heuristic targets\n",
    "PAGE_SIZE_TARGET = 50\n",
    "MIN_PAGES = 3\n",
    "MAX_PAGES = 10\n",
    "MIN_ROWS_THRESHOLD = 100  # only consider tables with >100 rows\n",
    "\n",
    "# Re-run behavior\n",
    "SKIP_IF_EXISTS = False  # skip writing if output exists for given criteria/model/table\n",
    "\n",
    "# OpenRouter config (read API key from env var OPENROUTER_API_KEY)\n",
    "OPENROUTER_BASE_URL = 'https://openrouter.ai/api/v1'\n",
    "OPENROUTER_API_KEY_ENV = 'OPENROUTER_API_KEY'\n",
    "OPENROUTER_ORIGIN = 'openrouter'  # label only\n",
    "\n",
    "import os, json, time, re, math, random\n",
    "from datetime import datetime\n",
    "import pandas as pd\n",
    "from pathlib import Path\n",
    "\n",
    "RUN_TS = datetime.now().strftime('%Y%m%d_%H%M%S')\n",
    "print('Run timestamp:', RUN_TS)"
   ]
  },
  {
   "cell_type": "code",
   "execution_count": 43,
   "id": "5c491211",
   "metadata": {},
   "outputs": [
    {
     "name": "stdout",
     "output_type": "stream",
     "text": [
      "Loaded API key: ***\n"
     ]
    }
   ],
   "source": [
    "# --- Load OpenRouter API key from launchctl and set in os.environ ---\n",
    "import subprocess\n",
    "def load_openrouter_api_key():\n",
    "    try:\n",
    "        result = subprocess.run(['launchctl', 'getenv', OPENROUTER_API_KEY_ENV], capture_output=True, text=True)\n",
    "        api_key = result.stdout.strip()\n",
    "        if api_key:\n",
    "            os.environ[OPENROUTER_API_KEY_ENV] = api_key\n",
    "        else:\n",
    "            print(f'API key not found in launchctl for {OPENROUTER_API_KEY_ENV}')\n",
    "        return api_key\n",
    "    except Exception as e:\n",
    "        print('Error loading API key:', e)\n",
    "        return ''\n",
    "\n",
    "api_key = load_openrouter_api_key()\n",
    "print('Loaded API key:', '***' if api_key else '(none)')"
   ]
  },
  {
   "cell_type": "code",
   "execution_count": 45,
   "id": "e79400ca",
   "metadata": {},
   "outputs": [
    {
     "data": {
      "text/plain": [
       "'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'"
      ]
     },
     "execution_count": 45,
     "metadata": {},
     "output_type": "execute_result"
    }
   ],
   "source": [
    "os.environ.get(OPENROUTER_API_KEY_ENV, '')"
   ]
  },
  {
   "cell_type": "code",
   "execution_count": 47,
   "id": "45a3f55a",
   "metadata": {},
   "outputs": [],
   "source": [
    "# --- LLM prompt for pagination criteria ---\n",
    "def build_llm_prompt(meta: dict, df: pd.DataFrame) -> str:\n",
    "    cols = list(df.columns)\n",
    "    head = df.head().to_string(index=False)\n",
    "    query = meta.get('query_without_cutoff') or meta.get('table_title') or meta.get('name')\n",
    "    tmpl = f'''\n",
    "### Task\n",
    "Recommend efficient pagination strategies for the following table.\n",
    "- Aim for balanced, predictable page sizes.\n",
    "- Base on available columns when possible.\n",
    "- Include a complete list of page keys to request.\n",
    "- If the full list cannot be determined, return an empty list of recommendations.\n",
    "- Prefer around {PAGE_SIZE_TARGET} rows per page and no more than {MAX_PAGES} pages.\n",
    "\n",
    "Return raw JSON only: \n",
    "[{{\n",
    "  \"criteria\": \"comma-separated column names used for pagination\",\n",
    "  \"expected_page_size\": 50,\n",
    "  \"expected_page_variance\": 10,\n",
    "  \"estimated_pages\": 3,\n",
    "  \"pages\": [\"full list of page keys/ranges to request downstream\"]\n",
    "}}]\n",
    "\n",
    "### Input\n",
    "Query: {query}\n",
    "Columns: {', '.join(cols)}\n",
    "Table head:\n",
    "{head}\n",
    "'''\n",
    "    return tmpl\n",
    "\n",
    "def parse_llm_recommendations(txt: str):\n",
    "    if not txt:\n",
    "        return []\n",
    "    s = strip_code_fences(txt)\n",
    "    try:\n",
    "        data = json.loads(s)\n",
    "        if isinstance(data, dict):\n",
    "            data = [data]\n",
    "        # sanitize numeric fields if strings\n",
    "        out = []\n",
    "        for r in data:\n",
    "            if not isinstance(r, dict):\n",
    "                continue\n",
    "            rec = {\n",
    "                'criteria': r.get('criteria', ''),\n",
    "                'expected_page_size': int(str(r.get('expected_page_size', 0)).strip().split()[0] or 0),\n",
    "                'expected_page_variance': int(str(r.get('expected_page_variance', 0)).strip().split()[0] or 0),\n",
    "                'estimated_pages': int(str(r.get('estimated_pages', 0)).strip().split()[0] or 0),\n",
    "                'pages': r.get('pages', []) or []\n",
    "            }\n",
    "            out.append(rec)\n",
    "        return out\n",
    "    except Exception as e:\n",
    "        print('Failed to parse LLM JSON:', e)\n",
    "        return []"
   ]
  },
  {
   "cell_type": "code",
   "execution_count": 49,
   "id": "b97b97aa",
   "metadata": {},
   "outputs": [],
   "source": [
    "# --- Naive recommendation ---\n",
    "def naive_recommendation(meta: dict, df: pd.DataFrame):\n",
    "    n = int(meta.get('numDataRows') or df.shape[0])\n",
    "    return {\n",
    "        'criteria': '',\n",
    "        'estimated_pages': 1,\n",
    "        'pages': ['ALL'],\n",
    "        'expected_page_size': n,\n",
    "        'expected_page_variance': 0\n",
    "    }"
   ]
  }
 ],
 "metadata": {
  "language_info": {
   "name": "python"
  }
 },
 "nbformat": 4,
 "nbformat_minor": 5
}
